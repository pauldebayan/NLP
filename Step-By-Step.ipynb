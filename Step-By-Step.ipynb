{
 "cells": [
  {
   "cell_type": "markdown",
   "metadata": {},
   "source": [
    "Computers do not understand texts - spam classification - \"You won a Billion Dollar\" - convert this to a meaningful vector  \n",
    "\n",
    "1. Python  \n",
    "2. Text Preprocessing - Tokenization, ..[Cleaning the I/P]  \n",
    "3. Little complex: Text Preprocessing 2: BOW, TFIDF[Input Text -> Vectors]  \n",
    "4. Text Preprocessing 3: [Input Text -> Vectors] : Word2Vec\n",
    "5. RNN, LSTM RNN, GRU RNN  [Deep Learning]\n",
    "6. Word Embedding  \n",
    "7. Transformer  \n",
    "8. BERT  \n"
   ]
  },
  {
   "cell_type": "markdown",
   "metadata": {},
   "source": [
    "Data is of Sequential Type,  \n",
    "Examples:  \n",
    "1. Text Generation: This is a Apple ____ <- should generate this word  \n",
    "2. Chatbot Conversation: Question -> Answer\n",
    "3. Language Translation  \n",
    "4. Auto Suggestion  \n",
    "\n",
    "\n",
    "{The, food, is, good} -> Change the order and Meaning may change - {good, is, the, food}  \n",
    "Ordering is important  \n",
    "? Can we use ANN for Sequential Data? Ans: It is sending all the data(words) to the NN at once - Simple RNN"
   ]
  },
  {
   "cell_type": "markdown",
   "metadata": {},
   "source": [
    "1. Simple RNN  \n",
    "2. LSTM/GRU RNN  \n",
    "3. Bidirectional RNN  \n",
    "4. Encoder Decoder  \n",
    "5. Self Attention  \n",
    "6. Transformers\n"
   ]
  },
  {
   "cell_type": "markdown",
   "metadata": {},
   "source": [
    "Sequence Information is important:  \n",
    "Time Stamp: t1, t2, t3, t4  \n",
    "t1->the,  \n",
    "t2->food,  \n",
    "t3->is,  \n",
    "t4->good  "
   ]
  },
  {
   "cell_type": "markdown",
   "metadata": {},
   "source": [
    "## Simple RNN\n",
    "\n",
    "Feedback loop"
   ]
  },
  {
   "cell_type": "markdown",
   "metadata": {},
   "source": []
  }
 ],
 "metadata": {
  "language_info": {
   "name": "python"
  }
 },
 "nbformat": 4,
 "nbformat_minor": 2
}
